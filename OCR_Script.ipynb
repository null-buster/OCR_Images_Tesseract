{
  "nbformat": 4,
  "nbformat_minor": 0,
  "metadata": {
    "colab": {
      "name": "OCR_Script.ipynb",
      "provenance": [],
      "collapsed_sections": [],
      "authorship_tag": "ABX9TyPHp8e8Y8qxEia/EcZoeYBi",
      "include_colab_link": true
    },
    "kernelspec": {
      "name": "python3",
      "display_name": "Python 3"
    }
  },
  "cells": [
    {
      "cell_type": "markdown",
      "metadata": {
        "id": "view-in-github",
        "colab_type": "text"
      },
      "source": [
        "<a href=\"https://colab.research.google.com/github/null-buster/OCR_Images_Tesseract/blob/main/OCR_Script.ipynb\" target=\"_parent\"><img src=\"https://colab.research.google.com/assets/colab-badge.svg\" alt=\"Open In Colab\"/></a>"
      ]
    },
    {
      "cell_type": "code",
      "metadata": {
        "id": "xl1Jf1a2M03y",
        "colab": {
          "base_uri": "https://localhost:8080/"
        },
        "outputId": "140e31e9-3613-4b43-d02e-6197d022f5d8"
      },
      "source": [
        "!sudo apt install tesseract-ocr\r\n",
        "!pip install pillow\r\n",
        "!pip install pytesseract\r\n",
        "!pip install tesseract"
      ],
      "execution_count": 14,
      "outputs": [
        {
          "output_type": "stream",
          "text": [
            "Reading package lists... Done\n",
            "Building dependency tree       \n",
            "Reading state information... Done\n",
            "tesseract-ocr is already the newest version (4.00~git2288-10f4998a-2).\n",
            "0 upgraded, 0 newly installed, 0 to remove and 15 not upgraded.\n",
            "Requirement already satisfied: pillow in /usr/local/lib/python3.6/dist-packages (7.0.0)\n",
            "Requirement already satisfied: pytesseract in /usr/local/lib/python3.6/dist-packages (0.3.7)\n",
            "Requirement already satisfied: Pillow in /usr/local/lib/python3.6/dist-packages (from pytesseract) (7.0.0)\n",
            "Requirement already satisfied: tesseract in /usr/local/lib/python3.6/dist-packages (0.1.3)\n"
          ],
          "name": "stdout"
        }
      ]
    },
    {
      "cell_type": "code",
      "metadata": {
        "id": "bsmreIBj9zHn"
      },
      "source": [
        "import cv2\r\n",
        "import os\r\n",
        "#new module additions\r\n",
        "import pytesseract"
      ],
      "execution_count": 15,
      "outputs": []
    },
    {
      "cell_type": "markdown",
      "metadata": {
        "id": "WPLH1tNZM-WO"
      },
      "source": [
        "Steps for running the script:\n",
        "\n",
        "1. Run all the cells above this point."
      ]
    },
    {
      "cell_type": "markdown",
      "metadata": {
        "id": "FfUVujYk6z4w"
      },
      "source": [
        "\n",
        "2.   Run the cell below to create the input folder containing the images with the name `image_folder` and the output folder that'll contain the ocr text files with the name `image_text`.\n",
        "\n",
        "Note : This step could be skipped if these folders are already present or if you wish to manually create these folders.\n",
        "\n",
        "3.   Populate the `image_folder` with the images that contain the text.\n",
        "\n"
      ]
    },
    {
      "cell_type": "code",
      "metadata": {
        "id": "3isicTHI1a3Y"
      },
      "source": [
        "image_folder = '/image_folder'\r\n",
        "if not os.path.exists(os.path.abspath('.') + image_folder):\r\n",
        "  os.mkdir(os.path.abspath('.') + image_folder)\r\n",
        "image_masks = '/image_text'\r\n",
        "if not os.path.exists(os.path.abspath('.') + image_masks):\r\n",
        "  os.mkdir(os.path.abspath('.') + image_masks)"
      ],
      "execution_count": 16,
      "outputs": []
    },
    {
      "cell_type": "code",
      "metadata": {
        "id": "QfOR-B2-48mP"
      },
      "source": [
        "def read_image_paths(folder_name, output_folder):\r\n",
        "  path_to_files = os.listdir(os.path.abspath('.') + '/' + folder_name)\r\n",
        "  for entry in path_to_files:\r\n",
        "    image = cv2.imread(os.path.abspath('.') + '/' + folder_name + '/' + entry, cv2.COLOR_BGR2RGB)\r\n",
        "    \r\n",
        "    print(\"Text detected in \" + entry + \"\\n\" + \"===================\\n\")\r\n",
        "    orig_rgb = cv2.cvtColor(image, cv2.COLOR_BGR2RGB)\r\n",
        "    print(pytesseract.image_to_string(orig_rgb, lang='eng'))\r\n",
        "\r\n",
        "    image_texts_detected = pytesseract.image_to_string(orig_rgb, lang='eng')\r\n",
        "    with open(os.path.abspath('.') + '/' + output_folder + '/Texts_in_' + entry.split('.')[-2] + '.txt', 'w' ) as f:\r\n",
        "        f.write(\"Text detected in \" + entry.split('.')[-2]+\":\\n\\n\" )\r\n",
        "        f.write(\"===========================================\\n\" )\r\n",
        "        f.write(image_texts_detected)\r\n"
      ],
      "execution_count": 17,
      "outputs": []
    },
    {
      "cell_type": "markdown",
      "metadata": {
        "id": "Q19kaCQK796n"
      },
      "source": [
        "\n",
        "\n",
        "3.   Run the code below with the appropriate folder names created in the previous step. The program will read all the images present in the `image_folder` and output the results in the `image_text`.\n"
      ]
    },
    {
      "cell_type": "code",
      "metadata": {
        "colab": {
          "base_uri": "https://localhost:8080/"
        },
        "id": "oN3Svor-LEQ1",
        "outputId": "04d03526-e639-4107-a34e-5317668b7747"
      },
      "source": [
        "read_image_paths('image_folder', 'image_text')"
      ],
      "execution_count": 18,
      "outputs": [
        {
          "output_type": "stream",
          "text": [
            "Text detected in green_high.jpeg\n",
            "===================\n",
            "\n",
            "Teamwork\n",
            "\n",
            "   \n",
            "   \n",
            "\n",
            "Cooperative work done by 4 t\n",
            "process of working collabora!\n",
            "join action by a team of peop\n",
            "Build collaborative relations\n",
            "\f\n"
          ],
          "name": "stdout"
        }
      ]
    },
    {
      "cell_type": "code",
      "metadata": {
        "id": "0Nn7QHO2LKKb"
      },
      "source": [
        ""
      ],
      "execution_count": 18,
      "outputs": []
    }
  ]
}